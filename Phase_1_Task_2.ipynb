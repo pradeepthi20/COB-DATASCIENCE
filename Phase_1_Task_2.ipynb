{
  "nbformat": 4,
  "nbformat_minor": 0,
  "metadata": {
    "colab": {
      "private_outputs": true,
      "provenance": []
    },
    "kernelspec": {
      "name": "python3",
      "display_name": "Python 3"
    },
    "language_info": {
      "name": "python"
    }
  },
  "cells": [
    {
      "cell_type": "markdown",
      "source": [
        "TASK 2"
      ],
      "metadata": {
        "id": "2gD6SePUGqQQ"
      }
    },
    {
      "cell_type": "markdown",
      "source": [
        "##Importing Necessary libraries"
      ],
      "metadata": {
        "id": "3JQejxidGzSd"
      }
    },
    {
      "cell_type": "code",
      "source": [
        "import pandas as pd\n",
        "import numpy as np\n",
        "from sklearn.impute import SimpleImputer\n",
        "from sklearn.preprocessing import StandardScaler\n",
        "from scipy import stats"
      ],
      "metadata": {
        "id": "qwdxbQGNG2W4"
      },
      "execution_count": null,
      "outputs": []
    },
    {
      "cell_type": "markdown",
      "source": [
        "##Displaying the first five rows of the dataset"
      ],
      "metadata": {
        "id": "9sg5Jx_wHA-J"
      }
    },
    {
      "cell_type": "code",
      "source": [
        "df = pd.read_csv(\"/content/dataset - netflix1 (2).csv\")\n",
        "df.head()"
      ],
      "metadata": {
        "id": "4EG34BT6HDaM"
      },
      "execution_count": null,
      "outputs": []
    },
    {
      "cell_type": "markdown",
      "source": [
        "##Displaying initial information about the dataset."
      ],
      "metadata": {
        "id": "tCkUGSFtHKu6"
      }
    },
    {
      "cell_type": "code",
      "source": [
        "print(\"Initial Dataset Information\")\n",
        "print(df.info())"
      ],
      "metadata": {
        "id": "6LPBgoX5HOfg"
      },
      "execution_count": null,
      "outputs": []
    },
    {
      "cell_type": "markdown",
      "source": [
        "##Checking for null values"
      ],
      "metadata": {
        "id": "kpDUElAWHR3T"
      }
    },
    {
      "cell_type": "code",
      "source": [
        "df.isnull().sum()"
      ],
      "metadata": {
        "id": "dkDV2YRUHQge"
      },
      "execution_count": null,
      "outputs": []
    },
    {
      "cell_type": "markdown",
      "source": [
        "##Printing the Z score"
      ],
      "metadata": {
        "id": "BNDnARTzHaqc"
      }
    },
    {
      "cell_type": "code",
      "source": [
        "z_scores = np.abs((df-df.mean()/df.std()))\n",
        "print(z_scores)"
      ],
      "metadata": {
        "id": "Qgbn1vn8HZdr"
      },
      "execution_count": null,
      "outputs": []
    },
    {
      "cell_type": "markdown",
      "source": [
        "##Describing the cleaned dataset"
      ],
      "metadata": {
        "id": "bnPkK296HnGY"
      }
    },
    {
      "cell_type": "code",
      "source": [
        "df.describe()"
      ],
      "metadata": {
        "id": "904BOTXkHlbw"
      },
      "execution_count": null,
      "outputs": []
    },
    {
      "cell_type": "code",
      "source": [
        "print(\"Cleaned Dataset\")\n",
        "df.head()"
      ],
      "metadata": {
        "id": "uYN-APMEHuMA"
      },
      "execution_count": null,
      "outputs": []
    },
    {
      "cell_type": "code",
      "source": [],
      "metadata": {
        "id": "iZ2jqhmsHwnX"
      },
      "execution_count": null,
      "outputs": []
    }
  ]
}